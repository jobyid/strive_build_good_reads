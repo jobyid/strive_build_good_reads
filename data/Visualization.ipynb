{
 "cells": [
  {
   "cell_type": "code",
   "execution_count": 179,
   "metadata": {},
   "outputs": [],
   "source": [
    "import pandas as pd\n",
    "import numpy as np\n",
    "import seaborn as sns\n",
    "import matplotlib.pyplot as plt\n",
    "import scipy.stats as st\n",
    "import statsmodels.api as sm"
   ]
  },
  {
   "cell_type": "code",
   "execution_count": 180,
   "metadata": {},
   "outputs": [],
   "source": [
    "data = pd.read_csv('analyse_this.csv')\n",
    "   "
   ]
  },
  {
   "cell_type": "code",
   "execution_count": 181,
   "metadata": {},
   "outputs": [
    {
     "data": {
      "text/html": [
       "<div>\n",
       "<style scoped>\n",
       "    .dataframe tbody tr th:only-of-type {\n",
       "        vertical-align: middle;\n",
       "    }\n",
       "\n",
       "    .dataframe tbody tr th {\n",
       "        vertical-align: top;\n",
       "    }\n",
       "\n",
       "    .dataframe thead th {\n",
       "        text-align: right;\n",
       "    }\n",
       "</style>\n",
       "<table border=\"1\" class=\"dataframe\">\n",
       "  <thead>\n",
       "    <tr style=\"text-align: right;\">\n",
       "      <th></th>\n",
       "      <th>url</th>\n",
       "      <th>title</th>\n",
       "      <th>author</th>\n",
       "      <th>num_ratings</th>\n",
       "      <th>avg_rating</th>\n",
       "      <th>awards</th>\n",
       "      <th>original_publish_year</th>\n",
       "      <th>num_reviews</th>\n",
       "      <th>is_series</th>\n",
       "      <th>genre</th>\n",
       "      <th>location</th>\n",
       "      <th>num_pages</th>\n",
       "      <th>norm_mean</th>\n",
       "      <th>norm_max_min</th>\n",
       "    </tr>\n",
       "  </thead>\n",
       "  <tbody>\n",
       "    <tr>\n",
       "      <th>0</th>\n",
       "      <td>https://www.goodreads.com/book/show/2767052-th...</td>\n",
       "      <td>The Hunger Games</td>\n",
       "      <td>Suzanne Collins</td>\n",
       "      <td>6532119</td>\n",
       "      <td>4</td>\n",
       "      <td>40.0</td>\n",
       "      <td>2008</td>\n",
       "      <td>173696</td>\n",
       "      <td>1.0</td>\n",
       "      <td>Young Adult, Fiction, Science Fiction &gt;, Dysto...</td>\n",
       "      <td>District 12, Panem, Capitol, Panem, Panem, Uni...</td>\n",
       "      <td>374.0</td>\n",
       "      <td>4.2</td>\n",
       "      <td>10.0</td>\n",
       "    </tr>\n",
       "    <tr>\n",
       "      <th>1</th>\n",
       "      <td>https://www.goodreads.com/book/show/2.Harry_Po...</td>\n",
       "      <td>Harry Potter and the Order of the Phoenix</td>\n",
       "      <td>J.K. Rowling</td>\n",
       "      <td>2580995</td>\n",
       "      <td>4</td>\n",
       "      <td>8.0</td>\n",
       "      <td>2003</td>\n",
       "      <td>43636</td>\n",
       "      <td>1.0</td>\n",
       "      <td>NaN</td>\n",
       "      <td>Hogwarts School of Witchcraft and Wizardry, Un...</td>\n",
       "      <td>870.0</td>\n",
       "      <td>4.2</td>\n",
       "      <td>10.0</td>\n",
       "    </tr>\n",
       "    <tr>\n",
       "      <th>2</th>\n",
       "      <td>https://www.goodreads.com/book/show/2657.To_Ki...</td>\n",
       "      <td>To Kill a Mockingbird</td>\n",
       "      <td>Harper Lee</td>\n",
       "      <td>4627182</td>\n",
       "      <td>4</td>\n",
       "      <td>NaN</td>\n",
       "      <td>1960</td>\n",
       "      <td>92947</td>\n",
       "      <td>1.0</td>\n",
       "      <td>Classics, Fiction, Historical &gt;, Historical Fi...</td>\n",
       "      <td>Literary Awards, Pulitzer Prize for Fiction (1...</td>\n",
       "      <td>NaN</td>\n",
       "      <td>4.2</td>\n",
       "      <td>10.0</td>\n",
       "    </tr>\n",
       "    <tr>\n",
       "      <th>3</th>\n",
       "      <td>https://www.goodreads.com/book/show/1885.Pride...</td>\n",
       "      <td>Pride and Prejudice</td>\n",
       "      <td>Jane Austen</td>\n",
       "      <td>3086649</td>\n",
       "      <td>4</td>\n",
       "      <td>NaN</td>\n",
       "      <td>1813</td>\n",
       "      <td>69415</td>\n",
       "      <td>1.0</td>\n",
       "      <td>NaN</td>\n",
       "      <td>Other Editions (6271)</td>\n",
       "      <td>279.0</td>\n",
       "      <td>4.2</td>\n",
       "      <td>10.0</td>\n",
       "    </tr>\n",
       "    <tr>\n",
       "      <th>4</th>\n",
       "      <td>https://www.goodreads.com/book/show/41865.Twil...</td>\n",
       "      <td>Twilight</td>\n",
       "      <td>Stephenie Meyer</td>\n",
       "      <td>5087005</td>\n",
       "      <td>3</td>\n",
       "      <td>24.0</td>\n",
       "      <td>2005</td>\n",
       "      <td>105670</td>\n",
       "      <td>1.0</td>\n",
       "      <td>Young Adult, Fantasy, Romance, Paranormal &gt;, V...</td>\n",
       "      <td>Forks, Washington, United States), Phoenix, Ar...</td>\n",
       "      <td>NaN</td>\n",
       "      <td>-4.8</td>\n",
       "      <td>1.0</td>\n",
       "    </tr>\n",
       "  </tbody>\n",
       "</table>\n",
       "</div>"
      ],
      "text/plain": [
       "                                                 url  \\\n",
       "0  https://www.goodreads.com/book/show/2767052-th...   \n",
       "1  https://www.goodreads.com/book/show/2.Harry_Po...   \n",
       "2  https://www.goodreads.com/book/show/2657.To_Ki...   \n",
       "3  https://www.goodreads.com/book/show/1885.Pride...   \n",
       "4  https://www.goodreads.com/book/show/41865.Twil...   \n",
       "\n",
       "                                       title           author  num_ratings  \\\n",
       "0                           The Hunger Games  Suzanne Collins      6532119   \n",
       "1  Harry Potter and the Order of the Phoenix     J.K. Rowling      2580995   \n",
       "2                      To Kill a Mockingbird       Harper Lee      4627182   \n",
       "3                        Pride and Prejudice      Jane Austen      3086649   \n",
       "4                                   Twilight  Stephenie Meyer      5087005   \n",
       "\n",
       "   avg_rating  awards  original_publish_year  num_reviews  is_series  \\\n",
       "0           4    40.0                   2008       173696        1.0   \n",
       "1           4     8.0                   2003        43636        1.0   \n",
       "2           4     NaN                   1960        92947        1.0   \n",
       "3           4     NaN                   1813        69415        1.0   \n",
       "4           3    24.0                   2005       105670        1.0   \n",
       "\n",
       "                                               genre  \\\n",
       "0  Young Adult, Fiction, Science Fiction >, Dysto...   \n",
       "1                                                NaN   \n",
       "2  Classics, Fiction, Historical >, Historical Fi...   \n",
       "3                                                NaN   \n",
       "4  Young Adult, Fantasy, Romance, Paranormal >, V...   \n",
       "\n",
       "                                            location  num_pages  norm_mean  \\\n",
       "0  District 12, Panem, Capitol, Panem, Panem, Uni...      374.0        4.2   \n",
       "1  Hogwarts School of Witchcraft and Wizardry, Un...      870.0        4.2   \n",
       "2  Literary Awards, Pulitzer Prize for Fiction (1...        NaN        4.2   \n",
       "3                              Other Editions (6271)      279.0        4.2   \n",
       "4  Forks, Washington, United States), Phoenix, Ar...        NaN       -4.8   \n",
       "\n",
       "   norm_max_min  \n",
       "0          10.0  \n",
       "1          10.0  \n",
       "2          10.0  \n",
       "3          10.0  \n",
       "4           1.0  "
      ]
     },
     "execution_count": 181,
     "metadata": {},
     "output_type": "execute_result"
    }
   ],
   "source": [
    "data.head()"
   ]
  },
  {
   "cell_type": "code",
   "execution_count": 105,
   "metadata": {},
   "outputs": [
    {
     "data": {
      "image/png": "[encoded data removed]",
      "text/plain": [
       "<Figure size 432x288 with 1 Axes>"
      ]
     },
     "metadata": {
      "needs_background": "light"
     },
     "output_type": "display_data"
    }
   ],
   "source": [
    "da = df.boxplot(column = [\"awards\"], grid = False, color = \"#0000ff\");\n",
    "        \n",
    "plt.title(\"boxplot for awards\");\n",
    "plt.suptitle(\"\");"
   ]
  },
  {
   "cell_type": "code",
   "execution_count": 104,
   "metadata": {},
   "outputs": [
    {
     "data": {
      "text/plain": [
       "<BarContainer object of 19 artists>"
      ]
     },
     "execution_count": 104,
     "metadata": {},
     "output_type": "execute_result"
    },
    {
     "data": {
      "image/png": "[encoded data removed]",
      "text/plain": [
       "<Figure size 432x288 with 1 Axes>"
      ]
     },
     "metadata": {
      "needs_background": "light"
     },
     "output_type": "display_data"
    }
   ],
   "source": [
    "df = data.groupby([\"awards\"]).size().reset_index(name=\"count\")\n",
    "x = df[\"count\"]\n",
    "y = df[\"awards\"]\n",
    "\n",
    "plt.bar(x,y)"
   ]
  },
  {
   "cell_type": "code",
   "execution_count": 125,
   "metadata": {},
   "outputs": [
    {
     "data": {
      "text/plain": [
       "Text(0, 0.5, 'Number of books')"
      ]
     },
     "execution_count": 125,
     "metadata": {},
     "output_type": "execute_result"
    },
    {
     "data": {
      "image/png": "[encoded data removed]",
      "text/plain": [
       "<Figure size 432x288 with 1 Axes>"
      ]
     },
     "metadata": {
      "needs_background": "light"
     },
     "output_type": "display_data"
    }
   ],
   "source": [
    "count = data[\"awards\"].value_counts().values\n",
    "\n",
    "index = data[\"awards\"].value_counts().index\n",
    "\n",
    "#data.plot.bar(x = \"awards\", y = count)\n",
    "plt.bar(index,count)\n",
    "plt.title(\"award distribution in bars\")\n",
    "plt.xlabel(\"awards\")\n",
    "plt.ylabel(\"Number of books\")"
   ]
  },
  {
   "cell_type": "code",
   "execution_count": 183,
   "metadata": {},
   "outputs": [],
   "source": []
  },
  {
   "cell_type": "code",
   "execution_count": 173,
   "metadata": {},
   "outputs": [],
   "source": []
  },
  {
   "cell_type": "code",
   "execution_count": null,
   "metadata": {},
   "outputs": [],
   "source": []
  }
 ],
 "metadata": {
  "kernelspec": {
   "display_name": "Python 3",
   "language": "python",
   "name": "python3"
  },
  "language_info": {
   "codemirror_mode": {
    "name": "ipython",
    "version": 3
   },
   "file_extension": ".py",
   "mimetype": "text/x-python",
   "name": "python",
   "nbconvert_exporter": "python",
   "pygments_lexer": "ipython3",
   "version": "3.8.3"
  }
 },
 "nbformat": 4,
 "nbformat_minor": 4
}
